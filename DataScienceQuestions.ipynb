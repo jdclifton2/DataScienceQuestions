{
 "cells": [
  {
   "cell_type": "markdown",
   "metadata": {},
   "source": [
    "# Data Science Questions.  Author: <br>Justin Clifton\n",
    "\n",
    "Hello, and thank you for viewing my notebook. This notebook was created to answer preliminary questions for a data science internship. "
   ]
  },
  {
   "cell_type": "markdown",
   "metadata": {},
   "source": [
    "---\n",
    "## Table of Contents\n",
    "\n",
    "1. [Question 1](#question1)\n",
    "    2. [Question 1 B](#question1b)\n",
    "    3. [Question 1 C](#question1c)\n",
    "2. [Question 2](#question2)\n",
    "    1. [Question 2 A](#question2b)\n",
    "    2. [Question 2 B](#question2b) \n",
    "3. [Question 3](#question3)\n",
    "3. [Question 4](#question4)\n",
    "3. [Question 5](#question5)\n",
    "\n",
    "\n",
    "---"
   ]
  },
  {
   "cell_type": "markdown",
   "metadata": {},
   "source": [
    "# Question 1 <a class=\"anchor\" id=\"question1\"></a>"
   ]
  },
  {
   "cell_type": "markdown",
   "metadata": {},
   "source": [
    "## a) <a class=\"anchor\" id=\"question1a\"></a> \n",
    "Based on the following two tables, write a SQL query that returns the name and student ID of all students that have a higher total marks score than the student that has StudentID of 'V002’.\n",
    "\n",
    "![name_table](images/name_table.png)\n",
    "![mark_table](images/mark_table.png)\n",
    "\n",
    "The solution to this question is contained in another file. It can be found at:\n",
    "\n",
    "https://github.com/jdclifton2/DataScienceQuestions/blob/main/query.sql"
   ]
  },
  {
   "cell_type": "code",
   "execution_count": 1,
   "metadata": {},
   "outputs": [],
   "source": [
    "import pandas as pd\n",
    "import seaborn as sns"
   ]
  },
  {
   "cell_type": "code",
   "execution_count": 2,
   "metadata": {},
   "outputs": [],
   "source": [
    "name_table = pd.DataFrame(columns = ['Name'], index = ['V001','V002','V003','V004'], data = ['Abe', 'Abhay', 'Acelin', 'Adelphos'])\n",
    "name_test = pd.DataFrame(columns = ['Name'], index = ['V001','V002','V003','V004','V005','V006'], data = ['Gabe', 'eee', 'aaE', 'aaa','Justin',\"Todd\"])\n",
    "mark_table = pd.DataFrame(columns = ['Total_marks'], index = ['V001','V002','V003','V004'], data = [95, 80, 74, 81])"
   ]
  },
  {
   "cell_type": "markdown",
   "metadata": {},
   "source": [
    "## b) <a class=\"anchor\" id=\"question1b\"></a>\n",
    "\n",
    "Assume that the two tables are pandas data frame variables. Based on those two data frames--utilizing pandas--write a python function that returns a new data frame version of name_table, where each name containing the letter “e” is uppercased, and lowercased otherwise (e.g. “Edward” → “EDWARD”, “Bob” → “bob”).\n",
    "\n",
    "\n",
    "\n"
   ]
  },
  {
   "cell_type": "code",
   "execution_count": 3,
   "metadata": {},
   "outputs": [],
   "source": [
    "def upper_if_e(name_table):\n",
    "    \"\"\"\n",
    "    returns a new data frame version of name_table, where each name containing the letter “e” is uppercased, \n",
    "    and lowercased otherwise.\n",
    "    \n",
    "    :param name_table: A dataframe containing the names of people.\n",
    "    :return: A new dataframe where every name that contained the letter 'e' is uppercased and names that\n",
    "    did contain 'e' are lower cased. \n",
    "    :rtype: Dataframe\n",
    "    \n",
    "    Example: “Edward” → “EDWARD”, “Bob” → “bob”\n",
    "    \"\"\"\n",
    "    names = name_table['Name']\n",
    "    new_df = name_table.copy()\n",
    "    #if the string does not contain e. ~ is the negation operator.\n",
    "    new_df.loc[~ new_df.Name.str.contains('e'), 'Name'] = new_df.Name.str.lower()\n",
    "    new_df.loc[new_df.Name.str.contains('e'), 'Name'] = new_df.Name.str.upper()\n",
    "    return new_df"
   ]
  },
  {
   "cell_type": "code",
   "execution_count": 4,
   "metadata": {},
   "outputs": [
    {
     "data": {
      "text/html": [
       "<div>\n",
       "<style scoped>\n",
       "    .dataframe tbody tr th:only-of-type {\n",
       "        vertical-align: middle;\n",
       "    }\n",
       "\n",
       "    .dataframe tbody tr th {\n",
       "        vertical-align: top;\n",
       "    }\n",
       "\n",
       "    .dataframe thead th {\n",
       "        text-align: right;\n",
       "    }\n",
       "</style>\n",
       "<table border=\"1\" class=\"dataframe\">\n",
       "  <thead>\n",
       "    <tr style=\"text-align: right;\">\n",
       "      <th></th>\n",
       "      <th>Name</th>\n",
       "    </tr>\n",
       "  </thead>\n",
       "  <tbody>\n",
       "    <tr>\n",
       "      <th>V001</th>\n",
       "      <td>GABE</td>\n",
       "    </tr>\n",
       "    <tr>\n",
       "      <th>V002</th>\n",
       "      <td>EEE</td>\n",
       "    </tr>\n",
       "    <tr>\n",
       "      <th>V003</th>\n",
       "      <td>AAE</td>\n",
       "    </tr>\n",
       "    <tr>\n",
       "      <th>V004</th>\n",
       "      <td>aaa</td>\n",
       "    </tr>\n",
       "    <tr>\n",
       "      <th>V005</th>\n",
       "      <td>justin</td>\n",
       "    </tr>\n",
       "    <tr>\n",
       "      <th>V006</th>\n",
       "      <td>todd</td>\n",
       "    </tr>\n",
       "  </tbody>\n",
       "</table>\n",
       "</div>"
      ],
      "text/plain": [
       "        Name\n",
       "V001    GABE\n",
       "V002     EEE\n",
       "V003     AAE\n",
       "V004     aaa\n",
       "V005  justin\n",
       "V006    todd"
      ]
     },
     "execution_count": 4,
     "metadata": {},
     "output_type": "execute_result"
    }
   ],
   "source": [
    "upper_if_e(name_test)"
   ]
  },
  {
   "cell_type": "code",
   "execution_count": 5,
   "metadata": {},
   "outputs": [
    {
     "data": {
      "text/html": [
       "<div>\n",
       "<style scoped>\n",
       "    .dataframe tbody tr th:only-of-type {\n",
       "        vertical-align: middle;\n",
       "    }\n",
       "\n",
       "    .dataframe tbody tr th {\n",
       "        vertical-align: top;\n",
       "    }\n",
       "\n",
       "    .dataframe thead th {\n",
       "        text-align: right;\n",
       "    }\n",
       "</style>\n",
       "<table border=\"1\" class=\"dataframe\">\n",
       "  <thead>\n",
       "    <tr style=\"text-align: right;\">\n",
       "      <th></th>\n",
       "      <th>Name</th>\n",
       "    </tr>\n",
       "  </thead>\n",
       "  <tbody>\n",
       "    <tr>\n",
       "      <th>V001</th>\n",
       "      <td>ABE</td>\n",
       "    </tr>\n",
       "    <tr>\n",
       "      <th>V002</th>\n",
       "      <td>abhay</td>\n",
       "    </tr>\n",
       "    <tr>\n",
       "      <th>V003</th>\n",
       "      <td>ACELIN</td>\n",
       "    </tr>\n",
       "    <tr>\n",
       "      <th>V004</th>\n",
       "      <td>ADELPHOS</td>\n",
       "    </tr>\n",
       "  </tbody>\n",
       "</table>\n",
       "</div>"
      ],
      "text/plain": [
       "          Name\n",
       "V001       ABE\n",
       "V002     abhay\n",
       "V003    ACELIN\n",
       "V004  ADELPHOS"
      ]
     },
     "execution_count": 5,
     "metadata": {},
     "output_type": "execute_result"
    }
   ],
   "source": [
    "cased_df = upper_if_e(name_table)\n",
    "cased_df"
   ]
  },
  {
   "cell_type": "markdown",
   "metadata": {},
   "source": [
    "## c) <a class=\"anchor\" id=\"question1c\"></a>\n",
    "Now write a function that takes in the output of 1) b) and mark_table and returns a data frame that summarizes the average grade of uppercase names and lowercase names"
   ]
  },
  {
   "cell_type": "code",
   "execution_count": 6,
   "metadata": {},
   "outputs": [],
   "source": [
    "def summarize_avg_grade(new_name_table, mark_table):\n",
    "    \"\"\"\n",
    "    returns a new data frame containing the average of the grades contained within mark_table for uppercased \n",
    "    names and lowercased names contained within new_name_table.\n",
    "    \n",
    "    :param new_name_table: A dataframe containing the names of people. The names should be all uppercased or all\n",
    "    lowercased.\n",
    "    :param mark_table: A dataframe containing grades.\n",
    "    :return: A new dataframe containing the average score for upper case names and lower case names.\n",
    "    :rtype: Dataframe\n",
    "    \n",
    "    \"\"\"\n",
    "    #merge the dataframes by their index. \n",
    "    combined_df = new_name_table.merge(mark_table, left_index=True, right_index=True)\n",
    "    upper_avg = combined_df[combined_df.Name.str.isupper()].mean()\n",
    "    lower_avg = combined_df[combined_df.Name.str.islower()].mean()\n",
    "    averages_df = pd.DataFrame({\"Uppercase Average\": upper_avg, \"Lowercase Average\": lower_avg})\n",
    "    return averages_df\n",
    "    "
   ]
  },
  {
   "cell_type": "code",
   "execution_count": 7,
   "metadata": {},
   "outputs": [
    {
     "data": {
      "text/html": [
       "<div>\n",
       "<style scoped>\n",
       "    .dataframe tbody tr th:only-of-type {\n",
       "        vertical-align: middle;\n",
       "    }\n",
       "\n",
       "    .dataframe tbody tr th {\n",
       "        vertical-align: top;\n",
       "    }\n",
       "\n",
       "    .dataframe thead th {\n",
       "        text-align: right;\n",
       "    }\n",
       "</style>\n",
       "<table border=\"1\" class=\"dataframe\">\n",
       "  <thead>\n",
       "    <tr style=\"text-align: right;\">\n",
       "      <th></th>\n",
       "      <th>Uppercase Average</th>\n",
       "      <th>Lowercase Average</th>\n",
       "    </tr>\n",
       "  </thead>\n",
       "  <tbody>\n",
       "    <tr>\n",
       "      <th>Total_marks</th>\n",
       "      <td>83.333333</td>\n",
       "      <td>80.0</td>\n",
       "    </tr>\n",
       "  </tbody>\n",
       "</table>\n",
       "</div>"
      ],
      "text/plain": [
       "             Uppercase Average  Lowercase Average\n",
       "Total_marks          83.333333               80.0"
      ]
     },
     "execution_count": 7,
     "metadata": {},
     "output_type": "execute_result"
    }
   ],
   "source": [
    "summarize_avg_grade(cased_df, mark_table)"
   ]
  },
  {
   "cell_type": "markdown",
   "metadata": {},
   "source": [
    "# Question 2.  <a class=\"anchor\" id=\"question2\"></a>"
   ]
  },
  {
   "cell_type": "markdown",
   "metadata": {},
   "source": [
    "##  a) <a class=\"anchor\" id=\"question2a\"></a>\n",
    "\n",
    "Consider the dataset below:\n",
    "\n",
    "https://github.com/helloworlddata/white-house-salaries/blob/master/data/converted/2017.csv\n",
    "\n",
    "\n",
    "Write some python code that illustrates some common feature engineering and/or data preparation tasks.  \n"
   ]
  },
  {
   "cell_type": "code",
   "execution_count": 8,
   "metadata": {},
   "outputs": [],
   "source": [
    "wh_salaries_df = pd.read_csv('https://raw.githubusercontent.com/helloworlddata/white-house-salaries/master/data/converted/2017.csv')"
   ]
  },
  {
   "cell_type": "markdown",
   "metadata": {},
   "source": [
    "First we will take a look at our dataset. It appears that salary is a string. If we would like to do any predictions using this variable, it will need to be a number. It also appears that we could engineer some features based on the position title."
   ]
  },
  {
   "cell_type": "code",
   "execution_count": 9,
   "metadata": {},
   "outputs": [
    {
     "data": {
      "text/html": [
       "<div>\n",
       "<style scoped>\n",
       "    .dataframe tbody tr th:only-of-type {\n",
       "        vertical-align: middle;\n",
       "    }\n",
       "\n",
       "    .dataframe tbody tr th {\n",
       "        vertical-align: top;\n",
       "    }\n",
       "\n",
       "    .dataframe thead th {\n",
       "        text-align: right;\n",
       "    }\n",
       "</style>\n",
       "<table border=\"1\" class=\"dataframe\">\n",
       "  <thead>\n",
       "    <tr style=\"text-align: right;\">\n",
       "      <th></th>\n",
       "      <th>NAME</th>\n",
       "      <th>STATUS</th>\n",
       "      <th>SALARY</th>\n",
       "      <th>PAY BASIS</th>\n",
       "      <th>POSITION TITLE</th>\n",
       "    </tr>\n",
       "  </thead>\n",
       "  <tbody>\n",
       "    <tr>\n",
       "      <th>0</th>\n",
       "      <td>Alexander, Monica K.</td>\n",
       "      <td>Employee</td>\n",
       "      <td>$56,000.00</td>\n",
       "      <td>Per Annum</td>\n",
       "      <td>EXECUTIVE ASSISTANT</td>\n",
       "    </tr>\n",
       "    <tr>\n",
       "      <th>1</th>\n",
       "      <td>Ambrosini, Michael J.</td>\n",
       "      <td>Employee</td>\n",
       "      <td>$95,000.00</td>\n",
       "      <td>Per Annum</td>\n",
       "      <td>SPECIAL ASSISTANT TO THE PRESIDENT AND DIRECTO...</td>\n",
       "    </tr>\n",
       "    <tr>\n",
       "      <th>2</th>\n",
       "      <td>Amin, Stacy C.</td>\n",
       "      <td>Employee</td>\n",
       "      <td>$140,000.00</td>\n",
       "      <td>Per Annum</td>\n",
       "      <td>SPECIAL ASSISTANT TO THE PRESIDENT AND ASSOCIA...</td>\n",
       "    </tr>\n",
       "    <tr>\n",
       "      <th>3</th>\n",
       "      <td>Andersen, Whitney N.</td>\n",
       "      <td>Employee</td>\n",
       "      <td>$94,000.00</td>\n",
       "      <td>Per Annum</td>\n",
       "      <td>DEPUTY DIRECTOR OF OPERATIONS FOR THE WHITE HO...</td>\n",
       "    </tr>\n",
       "    <tr>\n",
       "      <th>4</th>\n",
       "      <td>Anderson, Alexander J.</td>\n",
       "      <td>Employee</td>\n",
       "      <td>$77,000.00</td>\n",
       "      <td>Per Annum</td>\n",
       "      <td>DIRECTOR OF DIGITAL ENGAGEMENT</td>\n",
       "    </tr>\n",
       "  </tbody>\n",
       "</table>\n",
       "</div>"
      ],
      "text/plain": [
       "                     NAME    STATUS       SALARY  PAY BASIS  \\\n",
       "0    Alexander, Monica K.  Employee   $56,000.00  Per Annum   \n",
       "1   Ambrosini, Michael J.  Employee   $95,000.00  Per Annum   \n",
       "2          Amin, Stacy C.  Employee  $140,000.00  Per Annum   \n",
       "3    Andersen, Whitney N.  Employee   $94,000.00  Per Annum   \n",
       "4  Anderson, Alexander J.  Employee   $77,000.00  Per Annum   \n",
       "\n",
       "                                      POSITION TITLE  \n",
       "0                                EXECUTIVE ASSISTANT  \n",
       "1  SPECIAL ASSISTANT TO THE PRESIDENT AND DIRECTO...  \n",
       "2  SPECIAL ASSISTANT TO THE PRESIDENT AND ASSOCIA...  \n",
       "3  DEPUTY DIRECTOR OF OPERATIONS FOR THE WHITE HO...  \n",
       "4                     DIRECTOR OF DIGITAL ENGAGEMENT  "
      ]
     },
     "execution_count": 9,
     "metadata": {},
     "output_type": "execute_result"
    }
   ],
   "source": [
    "wh_salaries_df.head()"
   ]
  },
  {
   "cell_type": "code",
   "execution_count": 10,
   "metadata": {},
   "outputs": [
    {
     "data": {
      "text/html": [
       "<div>\n",
       "<style scoped>\n",
       "    .dataframe tbody tr th:only-of-type {\n",
       "        vertical-align: middle;\n",
       "    }\n",
       "\n",
       "    .dataframe tbody tr th {\n",
       "        vertical-align: top;\n",
       "    }\n",
       "\n",
       "    .dataframe thead th {\n",
       "        text-align: right;\n",
       "    }\n",
       "</style>\n",
       "<table border=\"1\" class=\"dataframe\">\n",
       "  <thead>\n",
       "    <tr style=\"text-align: right;\">\n",
       "      <th></th>\n",
       "      <th>NAME</th>\n",
       "      <th>STATUS</th>\n",
       "      <th>SALARY</th>\n",
       "      <th>PAY BASIS</th>\n",
       "      <th>POSITION TITLE</th>\n",
       "    </tr>\n",
       "  </thead>\n",
       "  <tbody>\n",
       "    <tr>\n",
       "      <th>count</th>\n",
       "      <td>377</td>\n",
       "      <td>377</td>\n",
       "      <td>377</td>\n",
       "      <td>377</td>\n",
       "      <td>375</td>\n",
       "    </tr>\n",
       "    <tr>\n",
       "      <th>unique</th>\n",
       "      <td>377</td>\n",
       "      <td>2</td>\n",
       "      <td>74</td>\n",
       "      <td>3</td>\n",
       "      <td>214</td>\n",
       "    </tr>\n",
       "    <tr>\n",
       "      <th>top</th>\n",
       "      <td>Pataki, Timothy A.</td>\n",
       "      <td>Employee</td>\n",
       "      <td>$115,000.00</td>\n",
       "      <td>Per Annum</td>\n",
       "      <td>EXECUTIVE ASSISTANT</td>\n",
       "    </tr>\n",
       "    <tr>\n",
       "      <th>freq</th>\n",
       "      <td>1</td>\n",
       "      <td>359</td>\n",
       "      <td>46</td>\n",
       "      <td>375</td>\n",
       "      <td>20</td>\n",
       "    </tr>\n",
       "  </tbody>\n",
       "</table>\n",
       "</div>"
      ],
      "text/plain": [
       "                      NAME    STATUS       SALARY  PAY BASIS  \\\n",
       "count                  377       377          377        377   \n",
       "unique                 377         2           74          3   \n",
       "top     Pataki, Timothy A.  Employee  $115,000.00  Per Annum   \n",
       "freq                     1       359           46        375   \n",
       "\n",
       "             POSITION TITLE  \n",
       "count                   375  \n",
       "unique                  214  \n",
       "top     EXECUTIVE ASSISTANT  \n",
       "freq                     20  "
      ]
     },
     "execution_count": 10,
     "metadata": {},
     "output_type": "execute_result"
    }
   ],
   "source": [
    "wh_salaries_df.describe()"
   ]
  },
  {
   "cell_type": "markdown",
   "metadata": {},
   "source": [
    "We will now check for missing data."
   ]
  },
  {
   "cell_type": "code",
   "execution_count": 11,
   "metadata": {},
   "outputs": [
    {
     "name": "stdout",
     "output_type": "stream",
     "text": [
      "<class 'pandas.core.frame.DataFrame'>\n",
      "RangeIndex: 377 entries, 0 to 376\n",
      "Data columns (total 5 columns):\n",
      " #   Column          Non-Null Count  Dtype \n",
      "---  ------          --------------  ----- \n",
      " 0   NAME            377 non-null    object\n",
      " 1   STATUS          377 non-null    object\n",
      " 2   SALARY          377 non-null    object\n",
      " 3   PAY BASIS       377 non-null    object\n",
      " 4   POSITION TITLE  375 non-null    object\n",
      "dtypes: object(5)\n",
      "memory usage: 14.9+ KB\n"
     ]
    }
   ],
   "source": [
    "wh_salaries_df.info()"
   ]
  },
  {
   "cell_type": "code",
   "execution_count": 12,
   "metadata": {},
   "outputs": [
    {
     "data": {
      "text/plain": [
       "2"
      ]
     },
     "execution_count": 12,
     "metadata": {},
     "output_type": "execute_result"
    }
   ],
   "source": [
    "wh_salaries_df['POSITION TITLE'].isnull().sum()"
   ]
  },
  {
   "cell_type": "code",
   "execution_count": 13,
   "metadata": {},
   "outputs": [],
   "source": [
    "wh_salaries_df.dropna(inplace = True)"
   ]
  },
  {
   "cell_type": "markdown",
   "metadata": {},
   "source": [
    "We will now check to make sure that every object in the salary column is a string."
   ]
  },
  {
   "cell_type": "code",
   "execution_count": 14,
   "metadata": {},
   "outputs": [
    {
     "data": {
      "text/plain": [
       "<class 'str'>    375\n",
       "Name: SALARY, dtype: int64"
      ]
     },
     "execution_count": 14,
     "metadata": {},
     "output_type": "execute_result"
    }
   ],
   "source": [
    "wh_salaries_df['SALARY'].apply(type).value_counts()"
   ]
  },
  {
   "cell_type": "code",
   "execution_count": 15,
   "metadata": {},
   "outputs": [],
   "source": [
    "def clean_salary(str_salary):\n",
    "    \"\"\" \n",
    "    If the value is a string, then remove currency symbol and delimiters\n",
    "    otherwise, the value is numeric and can be converted\n",
    "    \n",
    "    :param str_salary: A string of a salary.\n",
    "    :return: A version of the salary with delimiters and currency symbol removed.\n",
    "    \"\"\"\n",
    "    if isinstance(str_salary, str):\n",
    "        return(str_salary.replace('$', '').replace(',', ''))\n",
    "    return str_salary"
   ]
  },
  {
   "cell_type": "code",
   "execution_count": 16,
   "metadata": {},
   "outputs": [],
   "source": [
    "wh_salaries_df['SALARY'] = wh_salaries_df['SALARY'].apply(clean_salary).astype('float')"
   ]
  },
  {
   "cell_type": "markdown",
   "metadata": {},
   "source": [
    "We have successfully converted all salaries to floats. Now they can be used for models. Now we will engineer features based on key words in the title of the position. If we leave the title as a string, we cannot work with it in our models. Converting it allows us to keep the information. Furthermore, certain titles might correlate with higher salaries or experience, so these are features worth having. "
   ]
  },
  {
   "cell_type": "code",
   "execution_count": 17,
   "metadata": {},
   "outputs": [
    {
     "data": {
      "text/html": [
       "<div>\n",
       "<style scoped>\n",
       "    .dataframe tbody tr th:only-of-type {\n",
       "        vertical-align: middle;\n",
       "    }\n",
       "\n",
       "    .dataframe tbody tr th {\n",
       "        vertical-align: top;\n",
       "    }\n",
       "\n",
       "    .dataframe thead th {\n",
       "        text-align: right;\n",
       "    }\n",
       "</style>\n",
       "<table border=\"1\" class=\"dataframe\">\n",
       "  <thead>\n",
       "    <tr style=\"text-align: right;\">\n",
       "      <th></th>\n",
       "      <th>NAME</th>\n",
       "      <th>STATUS</th>\n",
       "      <th>SALARY</th>\n",
       "      <th>PAY BASIS</th>\n",
       "      <th>POSITION TITLE</th>\n",
       "    </tr>\n",
       "  </thead>\n",
       "  <tbody>\n",
       "    <tr>\n",
       "      <th>0</th>\n",
       "      <td>Alexander, Monica K.</td>\n",
       "      <td>Employee</td>\n",
       "      <td>56000.0</td>\n",
       "      <td>Per Annum</td>\n",
       "      <td>EXECUTIVE ASSISTANT</td>\n",
       "    </tr>\n",
       "    <tr>\n",
       "      <th>1</th>\n",
       "      <td>Ambrosini, Michael J.</td>\n",
       "      <td>Employee</td>\n",
       "      <td>95000.0</td>\n",
       "      <td>Per Annum</td>\n",
       "      <td>SPECIAL ASSISTANT TO THE PRESIDENT AND DIRECTO...</td>\n",
       "    </tr>\n",
       "    <tr>\n",
       "      <th>2</th>\n",
       "      <td>Amin, Stacy C.</td>\n",
       "      <td>Employee</td>\n",
       "      <td>140000.0</td>\n",
       "      <td>Per Annum</td>\n",
       "      <td>SPECIAL ASSISTANT TO THE PRESIDENT AND ASSOCIA...</td>\n",
       "    </tr>\n",
       "    <tr>\n",
       "      <th>3</th>\n",
       "      <td>Andersen, Whitney N.</td>\n",
       "      <td>Employee</td>\n",
       "      <td>94000.0</td>\n",
       "      <td>Per Annum</td>\n",
       "      <td>DEPUTY DIRECTOR OF OPERATIONS FOR THE WHITE HO...</td>\n",
       "    </tr>\n",
       "    <tr>\n",
       "      <th>4</th>\n",
       "      <td>Anderson, Alexander J.</td>\n",
       "      <td>Employee</td>\n",
       "      <td>77000.0</td>\n",
       "      <td>Per Annum</td>\n",
       "      <td>DIRECTOR OF DIGITAL ENGAGEMENT</td>\n",
       "    </tr>\n",
       "  </tbody>\n",
       "</table>\n",
       "</div>"
      ],
      "text/plain": [
       "                     NAME    STATUS    SALARY  PAY BASIS  \\\n",
       "0    Alexander, Monica K.  Employee   56000.0  Per Annum   \n",
       "1   Ambrosini, Michael J.  Employee   95000.0  Per Annum   \n",
       "2          Amin, Stacy C.  Employee  140000.0  Per Annum   \n",
       "3    Andersen, Whitney N.  Employee   94000.0  Per Annum   \n",
       "4  Anderson, Alexander J.  Employee   77000.0  Per Annum   \n",
       "\n",
       "                                      POSITION TITLE  \n",
       "0                                EXECUTIVE ASSISTANT  \n",
       "1  SPECIAL ASSISTANT TO THE PRESIDENT AND DIRECTO...  \n",
       "2  SPECIAL ASSISTANT TO THE PRESIDENT AND ASSOCIA...  \n",
       "3  DEPUTY DIRECTOR OF OPERATIONS FOR THE WHITE HO...  \n",
       "4                     DIRECTOR OF DIGITAL ENGAGEMENT  "
      ]
     },
     "execution_count": 17,
     "metadata": {},
     "output_type": "execute_result"
    }
   ],
   "source": [
    "wh_salaries_df.head()"
   ]
  },
  {
   "cell_type": "code",
   "execution_count": 18,
   "metadata": {},
   "outputs": [
    {
     "data": {
      "text/plain": [
       "array(['EXECUTIVE ASSISTANT',\n",
       "       'SPECIAL ASSISTANT TO THE PRESIDENT AND DIRECTOR OF THE OFFICE OF THE CHIEF OF STAFF',\n",
       "       'SPECIAL ASSISTANT TO THE PRESIDENT AND ASSOCIATE COUNSEL TO THE PRESIDENT',\n",
       "       'DEPUTY DIRECTOR OF OPERATIONS FOR THE WHITE HOUSE MANAGEMENT OFFICE',\n",
       "       'DIRECTOR OF DIGITAL ENGAGEMENT',\n",
       "       'SPECIAL ASSISTANT TO THE PRESIDENT FOR LEGISLATIVE AFFAIRS',\n",
       "       'SPECIAL ASSISTANT TO THE PRESIDENT AND SENIOR ASSOCIATE COUNSEL TO THE PRESIDENT',\n",
       "       'SPEECHWRITER',\n",
       "       'SPECIAL ASSISTANT TO THE PRESIDENT FOR ECONOMIC POLICY',\n",
       "       'ASSISTANT TO THE PRESIDENT AND CHIEF STRATEGIST AND SENIOR COUNSELOR',\n",
       "       'SENIOR DIGITAL STRATEGIST',\n",
       "       'SPECIAL ASSISTANT TO THE PRESIDENT FOR REGULATORY REFORM, LEGAL AND IMMIGRATION POLICY',\n",
       "       'WRITER FOR CORRESPONDENCE',\n",
       "       'SPECIAL ASSISTANT TO THE PRESIDENT AND ASSISTANT TO THE SENIOR ADVISOR',\n",
       "       'DEPUTY SOCIAL SECRETARY', 'DEPUTY ASSOCIATE DIRECTOR',\n",
       "       'CHIEF CALLIGRAPHER',\n",
       "       'SPECIAL ASSISTANT TO THE PRESIDENT AND DEPUTY DIRECTOR OF WHITE HOUSE MANAGEMENT AND ADMINISTRATION',\n",
       "       'ASSOCIATE DIRECTOR', 'RECORDS MANAGEMENT ANALYST',\n",
       "       'SPECIAL ASSISTANT TO THE PRESIDENT AND ASSOCIATE DIRECTOR OF PRESIDENTIAL PERSONNEL',\n",
       "       'ASSISTANT TO THE PRESIDENT FOR HOMELAND SECURITY AND COUNTERTERRORISM',\n",
       "       'REGIONAL COMMUNICATIONS DIRECTOR', 'RESEARCH ASSOCIATE',\n",
       "       'ASSISTANT TO THE PRESIDENT AND DIRECTOR OF THE DOMESTIC POLICY COUNCIL',\n",
       "       'SUPERVISOR OF CORRESPONDENCE REVIEW', 'CALLIGRAPHER',\n",
       "       'ASSISTANT STAFF SECRETARY', 'STAFF ASSISTANT',\n",
       "       'DEPUTY ASSISTANT TO THE PRESIDENT AND SENIOR ADVISOR TO THE CHIEF OF STAFF',\n",
       "       'SPECIAL ASSISTANT TO THE PRESIDENT FOR HEALTH POLICY',\n",
       "       'SUPERVISOR FOR DOCUMENT MANAGEMENT AND TRACKING UNIT',\n",
       "       'LEAD ADVANCE REPRESENTATIVE',\n",
       "       'SPECIAL ASSISTANT TO THE PRESIDENT AND SENIOR COUNSEL TO THE PRESIDENT',\n",
       "       'OPERATIONS MANAGER',\n",
       "       'SPECIAL ASSISTANT TO THE PRESIDENT AND DIRECTOR OF SPECIAL COMMUNICATIONS PROJECTS',\n",
       "       'DEPUTY ASSISTANT TO THE PRESIDENT AND DIRECTOR OF INTERGOVERNMENTAL AFFAIRS',\n",
       "       'INFORMATION SERVICES OPERATOR',\n",
       "       'SPECIAL ASSISTANT TO THE PRESIDENT FOR OPERATIONS',\n",
       "       'ASSISTANT TO THE PRESIDENT AND DIRECTOR OF THE NATIONAL ECONOMIC COUNCIL',\n",
       "       'PRESS ASSISTANT', 'ASSOCIATE COUNSEL TO THE PRESIDENT',\n",
       "       'ASSISTANT TO THE PRESIDENT AND SENIOR COUNSELOR',\n",
       "       'ASSISTANT TO THE PRESIDENT FOR INTERGOVERNMENTAL AND TECHNOLOGY INITIATIVES',\n",
       "       'SPECIAL ASSISTANT', 'LEGAL ASSISTANT', 'DIRECTOR OF STENOGRAPHY',\n",
       "       'SCHEDULER AND TRIP COORDINATOR',\n",
       "       'DIRECTOR OF DIGITAL RESPONSE FOR CORRESPONDENCE',\n",
       "       'ASSISTANT TO THE PRESIDENT AND DEPUTY CHIEF OF STAFF FOR LEGISLATIVE, CABINET, INTERGOVERNMENTAL AFFAIRS AND IMPLEMENTATION',\n",
       "       'DIRECTOR OF THE WHITE HOUSE SWrTCHBOARD',\n",
       "       'PRESIDENTIAL SUPPORT SPECIALIST',\n",
       "       'DEPUTY ASSISTANT TO THE PRESIDENT AND DEPUTY COUNSEL TO THE PRESIDENT',\n",
       "       'ASSISTANT TO THE PRESIDENT AND DIRECTOR OF PRESIDENTIAL PERSONNEL',\n",
       "       'SPECIAL ASSISTANT TO THE PRESIDENT AND DEPUTY COUNSEL TO THE PRESIDENT',\n",
       "       'DEPUTY ASSISTANT TO THE PRESIDENT AND DIRECTOR OF POLICY AND INTERAGENCY COORDINATION',\n",
       "       'DEPUTY ASSISTANT TO THE PRESIDENT AND DEPUTY DIRECTOR OF COMMUNICATIONS',\n",
       "       'SPECIAL ASSISTANT TO THE PRESIDENT AND ADVISOR FOR PLANNING',\n",
       "       'DEPUTY ASSISTANT TO THE PRESIDENT AND SPECIAL COUNSEL TO THE PRESIDENT AND CHIEF OF STAFF TO THE WHITE HOUSE COUNSEL',\n",
       "       'SPECIAL ASSISTANT TO THE PRESIDENT AND DEPUTY DIRECTOR OF PRESIDENTIAL PERSONNEL',\n",
       "       'DIRECTOR OF CONGRESSIONAL COMMUNICATIONS',\n",
       "       'DIRECTOR OF RECORDS MANAGEMENT', 'PROJECT MANAGER',\n",
       "       'LEAD PRESS REPRESENTATIVE',\n",
       "       'ASSISTANT SUPERVISOR FOR CLASSIFICATION',\n",
       "       'DEPUTY ASSISTANT TO THE PRESIDENT AND DEPUTY COUNSEL TO THE PRESIDENT FOR NATIONAL SECURITY AFFAIRS AND LEGAL ADVISOR TO THE NATIONAL SECURITY COUNCIL',\n",
       "       'DEPUTY ASSISTANT TO THE PRESIDENT AND DEPUTY DIRECTOR OF THE NATIONAL ECONOMIC COUNCIL AND INTERNATIONAL ECONOMIC AFFAIRS',\n",
       "       'RESEARCH ANALYST',\n",
       "       'SPECIAL ASSISTANT TO THE PRESIDENT AND SENIOR ASSOCIATE COUNSEL TO THE PRESIDENT AND DEPUTY LEGAL ADVISOR TO THE NATIONAL SECURITY COUNCIL',\n",
       "       'SPECIAL ASSISTANT TO THE PRESIDENT AND DIRECTOR OF MEDIA AFFAIRS',\n",
       "       'ASSISTANT PRESS SECRETARY',\n",
       "       'DEPUTY DIRECTOR OF ADVANCE FOR THE FIRST LADY',\n",
       "       'SENIOR DIRECTOR FOR CABINET AFFAIRS', 'SENIOR TRIP COORDINATOR',\n",
       "       'DIRECTOR OF VIDEO IMAGES',\n",
       "       'DEPUTY ASSISTANT TO THE PRESIDENT AND DIRECTOR OF PRESIDENTIAL ADVANCE',\n",
       "       'EDUCATION ADVISOR',\n",
       "       'DEPUTY ASSISTANT TO THE PRESIDENT AND STRATEGIST',\n",
       "       'LEGISLATIVE ASSISTANT', 'DIRECTOR OF PRESIDENTIALGIFTS',\n",
       "       'SPECIAL ASSISTANT TO THE PRESIDENT AND DEPUTY DIRECTOR OF TRADE AND MANUFACTURING POLICY',\n",
       "       'ASSISTANT TO THE PRESIDENT AND SPECIAL REPRESENTATIVE FOR INTERNATIONAL NEGOTIATIONS',\n",
       "       'SPECIAL ASSISTANT TO THE PRESIDENT AND DIRECTOR OF COMMUNICATIONS FOR THE FIRST LADY',\n",
       "       'ASSISTANT TO THE PRESIDENT AND DEPUTY CHIEF OF STAFF FOR OPERATIONS',\n",
       "       'SPECIAL ASSISTANT TO THE PRESIDENT AND DEPUTY STRATEGIST',\n",
       "       'DIRECTOR OF WHrTE HOUSE TRAVEL OFFICE',\n",
       "       'SPECIAL ASSISTANT TO THE PRESIDENT AND ADVISOR FOR STRATEGY AND SPEECHWRITING',\n",
       "       'REGIONAL DIRECTOR', 'SENIOR POLICY ANALYST', 'TRIP COORDINATOR',\n",
       "       'DIRECTOR OF BROADCAST MEDIA',\n",
       "       'DIRECTOR OF AGENCY LIAISON FOR CORRESPONDENCE',\n",
       "       'ASSISTANT TO THE PRESIDENT AND DIRECTOR OF STRATEGIC COMMUNICATIONS',\n",
       "       'SPECIAL ASSISTANT TO THE PRESIDENT AND DEPUTY DIRECTOR OF INTERGOVERNMENTAL AFFAIRS',\n",
       "       'SPECIAL PROJECTS MANAGER', 'SENIOR POLICY ADVISOR',\n",
       "       'DEPUTY ASSISTANT TO THE PRESIDENT AND CHIEF OF STAFF TO THE SENIOR COUNSELOR',\n",
       "       'SPECIAL ASSISTANT TO THE PRESIDENT AND EXECUTIVE ASSISTANT TO THE CHIEF OF STAFF',\n",
       "       'DIRECTOR OF REGIONAL MEDIA',\n",
       "       \"DIRECTOR OF STUDENT AND CHILDREN'S CORRESPONDENCE\",\n",
       "       'SPECIAL ASSISTANT TO THE PRESIDENT AND DEPUTY DIRECTOR OF POLITICAL AFFAIRS',\n",
       "       'DIRECTOR OF WHITE HOUSE INTERNSHIP PROGRAM AND VOLUNTEERS',\n",
       "       'SPECIAL ASSISTANT TO THE PRESIDENT AND ADVISOR FOR DEVELOPMENT AND SPEECHWRITING',\n",
       "       'PERSONAL AIDE',\n",
       "       'ASSISTANT SUPERVISOR FOR DOCUMENT MANAGEMENT AND TRACKING UNIT',\n",
       "       'EXECUTIVE CLERK',\n",
       "       'SPECIAL ASSISTANT TO THE PRESIDENT AND DEPUTY DIRECTOR OF PRESIDENTIAL ADVANCE',\n",
       "       'DIRECTOR OF DIGITAL OPERATIONS',\n",
       "       'DEPUTY ASSISTANT TO THE PRESIDENT AND DEPUTY DIRECTOR OF THE NATIONAL ECONOMIC COUNCIL AND ECONOMIC POLICY',\n",
       "       'EXECUTIVE DIRECTOR FOR WHITE HOUSE COUNCIL ON NATIVE AMERICAN AFFAIRS',\n",
       "       'ASSISTANT TO THE PRESIDENT AND EXECUTIVE SECRETARY AND CHIEF OF STAFF FOR THE NATIONAL SECURITY COUNCIL',\n",
       "       'DEPUTY ASSISTANT TO THE PRESIDENT AND DIRECTOR OF WHITE HOUSE MANAGEMENT AND ADMINISTRATION AND DIRECTOR OF THE OFFICE OF ADMINISTRATION',\n",
       "       'DEPUTY DIRECTOR OF RESEARCH',\n",
       "       'SPECIAL ASSISTANT TO THE PRESIDENT AND DEPUTY DIRECTOR OF THE OFFICE OF PUBLIC LIAISON',\n",
       "       'DIRECTOR OF SPECIAL PROJECTS FOR CABINET AFFAIRS',\n",
       "       'ASSISTANT TO THE PRESIDENT AND SENIOR ADVISOR',\n",
       "       'SUPERVISOR FOR SEARCH AND FILE SECTION',\n",
       "       'COMMUNICATIONS COORDINATOR',\n",
       "       'ASSISTANT TO THE PRESIDENT FOR STRATEGIC INITIATIVES',\n",
       "       'SPECIAL ASSISTANT TO THE PRESIDENT FOR INNOVATION POLICY AND INITIATIVES',\n",
       "       'SENIOR PRESS ASSISTANT',\n",
       "       'DEPUTY ASSISTANT TO THE PRESIDENT AND DEPUTY STAFF SECRETARY',\n",
       "       'ETHICS COUNSEL', 'RESEARCH ASSISTANT AND EXECUTIVE ASSISTANT',\n",
       "       'PRODUCTION ASSISTANT',\n",
       "       'SPECIAL ASSISTANT TO THE PRESIDENT AND DIRECTOR OF WHUE HOUSE EVENTS AND PRESIDENTIAL SCHEDULING',\n",
       "       'DIRECTOR OF RADIO MEDIA',\n",
       "       'ASSISTANT TO THE PRESIDENT AND DIRECTOR OF COMMUNICATIONS FOR THE OFFICE OF PUBLIC LIAISON',\n",
       "       'SPECIAL ASSISTANT TO THE PRESIDENT AND CHIEF OF STAFF OF THE NATIONAL ECONOMIC COUNCIL AND ECONOMIC POLICY',\n",
       "       'SPECIAL ASSISTANT TO THE PRESIDENT AND DIRECTOR OF ORGANIZATIONAL STRUCTURE AND HUMAN CAPITAL',\n",
       "       'DEPUTY DIRECTOR OF CORRESPONDENCE AND DIRECTOR OF WRITERS',\n",
       "       'SPECIAL ASSISTANT TO THE PRESIDENT AND DEPUTY CABINET SECRETARY',\n",
       "       'SPECIAL ASSISTANT TO THE PRESIDENT AND ASSOCIATE STAFF SECRETARY',\n",
       "       'DIRECTOR OF MAIL ANALYSIS', 'DEPUTY DIRECTOR OF SCHEDULING',\n",
       "       'WEST WING RECEPTIONIST', 'ASSISTANT EXECUTIVE CLERK',\n",
       "       'DEPUTY ASSOCIATE COUNSEL TO THE PRESIDENT',\n",
       "       'DEPUTY DIRECTOR OF STENOGRAPHY',\n",
       "       'SPECIAL ASSISTANT TO THE PRESIDENT AND PERSONAL AIDE TO THE PRESIDENT',\n",
       "       'ASSISTANT TO THE PRESIDENT AND DEPUTY NATIONAL SECURITY ADVISOR',\n",
       "       'ASSISTANT TO THE PRESIDENT AND COUNSEL TO THE PRESIDENT',\n",
       "       'DEPUTY ASSISTANT TO THE PRESIDENT AND CABINET SECRETARY',\n",
       "       'EDUCATION, WOMEN AND FAMILIES, AND WORKFORCE POLICY ADVISOR',\n",
       "       'SPECIAL ASSISTANT TO THE PRESIDENT AND DEPUTY DIRECTOR FOR PRESS ADVANCE',\n",
       "       'DEPUTY ASSISTANT TO THE PRESIDENT FOR LEGISLATIVE AFFAIRS AND HOUSE DEPUTY DIRECTOR',\n",
       "       'ASSISTANT TO THE PRESIDENT AND SENIOR ADVISOR FOR POLICY',\n",
       "       'ASSISTANT SUPERVISOR FOR SEARCH AND FILE',\n",
       "       'RESEARCH ANALYST AND EXECUTIVE ASSISTANT',\n",
       "       'ASSISTANT TO THE OFFICE OF AMERICAN INNOVATION',\n",
       "       'DEPUTY DIRECTOR FOR BUY AMERICAN/HIRE AMERICAN',\n",
       "       'SENIOR DIRECTOR OF SCHEDULING', 'ADVISOR TO THE PRESS SECRETARY',\n",
       "       'DEPUTY ASSISTANT TO THE PRESIDENT AND PRINCIPAL DEPUTY DIRECTOR OF THE OFFICE OF PUBLIC LIAISON',\n",
       "       'DEPUTY ASSISTANT TO THE PRESIDENT AND DIRECTOR OF TRADE AND MANUFACTURING POLICY',\n",
       "       'ASSISTANT TO THE EXECUTIVE CLERK',\n",
       "       'SPECIAL ASSISTANT TO THE PRESIDENT AND SOCIAL SECRETARY',\n",
       "       'DIRECTOR OF AGENCY OUTREACH FOR CABINET AFFAIRS',\n",
       "       'ASSISTANT TO THE EXECUTIVE CLERK FOR LEGISLATION',\n",
       "       'SENIOR WRITER FOR CORRESPONDENCE',\n",
       "       'ASSISTANT TO THE PRESIDENT AND WHITE HOUSE STAFF SECRETARY',\n",
       "       'ASSISTANT TO THE PRESIDENT AND DEPUTY NATIONAL SECURITY ADVISOR FOR STRATEGY',\n",
       "       'ASSISTANT TO THE PRESIDENT AND CHIEF OF STAFF', 'TRAVEL MANAGER',\n",
       "       'SPECIAL ASSISTANT TO PRESIDENT AND ASSOCIATE DIRECTOR OF PRESIDENTIAL PERSONNEL',\n",
       "       'SPECIAL ASSISTANT TO THE PRESIDENT AND CHIEF OF STAFF FOR ECONOMIC INITIATIVES',\n",
       "       'DEPUTY ASSISTANT TO THE PRESIDENT AND COMMUNICATIONS ADVISOR',\n",
       "       'DEPUTY DIRECTOR FOR INFORMATION SERVICES',\n",
       "       'DEPUTY DIRECTOR AND SENIOR ADVISOR FOR RECORDS MANAGEMENT',\n",
       "       'DIRECTOR OF CABINET COMMUNICATIONS',\n",
       "       'ASSISTANT TO THE PRESIDENT AND CHIEF OF STAFF TO THE FIRST LADY',\n",
       "       'INTERIM CHIEF DIGITAL OFFICER',\n",
       "       'SPECIAL ASSISTANT TO THE PRESIDENT AND DIRECTOR OF SPECIAL PROJECTS AND RESEARCH',\n",
       "       'DIRECTOR OF SPECIALTY MEDIA',\n",
       "       'SPECIAL ASSISTANT TO THE PRESIDENT AND SPEECHWRITER', 'SCHEDULER',\n",
       "       'SPECIAL ASSISTANT TO THE PRESIDENT AND DIRECTOR OF MESSAGE STRATEGY',\n",
       "       'SENIOR LEAD PRESS REPRESENTATIVE',\n",
       "       'RECORDS MANAGEMENT INFORMATION SYSTEMS SPECIALIST',\n",
       "       'DEPUTY ASSISTANT TO THE PRESIDENT AND PRINCIPAL DEPUTY PRESS SECRETARY',\n",
       "       'STENOGRAPHER',\n",
       "       'SPECIAL ASSISTANT TO THE PRESIDENT AND DIRECTOR OF CORRESPONDENCE',\n",
       "       'ASSISTANT TO THE PRESIDENT AND DIRECTOR OF SOCIAL MEDIA',\n",
       "       'DEPUTY ASSISTANT TO THE PRESIDENT AND DIRECTOR OF OVAL OFFICE OPERATIONS',\n",
       "       'DEPUTY ASSISTANT TO THE PRESIDENT AND DEPUTY DIRECTOR OF COMMUNICATIONS AND DIRECTOR OF RESEARCH',\n",
       "       'LABOR ADVISOR', 'COMMUNICATIONS ASSISTANT',\n",
       "       'ASSISTANT TO THE PRESIDENT AND DIRECTOR OF THE OFFICE OF LEGISLATIVE AFFAIRS',\n",
       "       'ASSISTANT TO THE PRESIDENT AND DIRECTOR OF THE OFFICE OF PUBLIC LIAISON',\n",
       "       'SPECIAL ASSISTANT TO THE PRESIDENT AND ASSISTANT COMMUNICATIONS DIRECTOR',\n",
       "       'URBAN AFFAIRS AND REVITALIZATION POLICY ADVISOR',\n",
       "       'ASSISTANT TO THE PRESIDENT AND PRESS SECRETARY',\n",
       "       'SPECIAL ASSISTANT TO THE PRESIDENT AND DIRECTOR OF WHrTE HOUSE PERSONNEL',\n",
       "       'DEPUTY ASSISTANT TO THE PRESIDENT AND DIRECTOR OF POLITICAL AFFAIRS',\n",
       "       'FINANCE AND LOGISTICS OFFICER',\n",
       "       'ASSISTANT PRESS SECRETARY AND SENIOR WRITER',\n",
       "       'DEPUTY ASSISTANT TO THE PRESIDENT FOR LEGISLATIVE AFFAIRS AND SENATE DEPUTY DIRECTOR',\n",
       "       'SPECIAL ASSISTANT TO THE PRESIDENT FOR HEALTHCARE POLICY',\n",
       "       'DEPUTY DIRECTOR OF NOMINATIONS',\n",
       "       'ASSISTANT EXECUTIVE CLERK FOR MESSAGES AND EXECUTIVE ACTIONS',\n",
       "       'ASSOCIATE DIRECTOR OF PRESIDENTIAL PERSONNEL',\n",
       "       'DIRECTOR OF REGIONAL OPERATIONS',\n",
       "       'SPECIAL ASSISTANT TO THE PRESIDENT AND DEPUTY CHIEF OF STAFF OF OPERATIONS FOR THE FIRST LADY',\n",
       "       'FIRST DAUGHTER AND ADVISOR TO THE PRESIDENT',\n",
       "       'SUPERVISOR OF COMPUTER ADMINISTRATION FOR RECORDS MANAGEMENT',\n",
       "       'SUPERVISOR FOR RECORDS MANAGEMENT CLASSIFICATION',\n",
       "       'IMMIGRATION ADVISOR',\n",
       "       'SPECIAL ASSISTANT TO THE PRESIDENT AND DEPUTY PRESS SECRETARY AND ADVISOR TO THE PRESS SECRETARY',\n",
       "       'DEPUTY DIRECTOR OF WHITE HOUSE TRAVEL OFFICE',\n",
       "       'SPECIAL ASSISTANT TO THE PRESIDENT AND EXECUTIVE ASSISTANT TO THE PRESIDENT',\n",
       "       'DIRECTOR OF PERSONAL CORRESPONDENCE',\n",
       "       'DEPUTY ASSISTANT TO THE PRESIDENT AND DEPUTY DIRECTOR OF THE DOMESTIC POLICY COUNCIL AND DIRECTOR OF BUDGET POLICY',\n",
       "       'SENIOR RECORDS MANAGEMENT ANALYST',\n",
       "       'SPECIAL ASSISTANT TO THE PRESIDENT FOR JUSTICE AND HOMELAND SECURITY POLICY'],\n",
       "      dtype=object)"
      ]
     },
     "execution_count": 18,
     "metadata": {},
     "output_type": "execute_result"
    }
   ],
   "source": [
    "def add_titles(desired_title, wh_salaries_df):\n",
    "    \"\"\" \n",
    "    Searches for the desired_title in wh_salaries_df['Position Title']. A new dataframe will be created. If the \n",
    "    position title string contains the desired_title, the corresponding row will recieve a 1 in the new column\n",
    "    and a 0 otherwise.\n",
    "    \n",
    "    \n",
    "    :param desired_title: The desired title to be searched for.\n",
    "    :param wh_salaries_df: The dataframe of whitehouse employees. \n",
    "    :return: A new version of the wh_salaries_df with an added column that says whether the desired title was\n",
    "    in the corresponding row's Position Title.\n",
    "    \"\"\"\n",
    "    special_title = wh_salaries_df['POSITION TITLE'].apply(lambda title: 1 if desired_title in title else 0)\n",
    "    special_title.rename(\"Title {}\".format(desired_title), inplace = True)\n",
    "    wh_salaries_df = pd.concat([wh_salaries_df, special_title], axis = 1)\n",
    "    return wh_salaries_df\n",
    "\n",
    "\n",
    "wh_salaries_df['POSITION TITLE'].unique()"
   ]
  },
  {
   "cell_type": "code",
   "execution_count": 19,
   "metadata": {},
   "outputs": [],
   "source": [
    "wh_salaries_df = add_titles(\"SPECIAL\", wh_salaries_df)\n",
    "wh_salaries_df = add_titles(\"DEPUTY\", wh_salaries_df)\n",
    "wh_salaries_df = add_titles(\"DIRECTOR\", wh_salaries_df)\n",
    "wh_salaries_df = add_titles(\"ASSISTANT\", wh_salaries_df)\n",
    "wh_salaries_df = add_titles(\"SENIOR\", wh_salaries_df)\n",
    "wh_salaries_df = add_titles(\"ASSOCIATE\", wh_salaries_df)\n",
    "wh_salaries_df = add_titles(\"CHIEF\", wh_salaries_df)\n",
    "wh_salaries_df = add_titles(\"SUPERVISOR\", wh_salaries_df)\n",
    "wh_salaries_df = add_titles(\"LEAD\", wh_salaries_df)\n",
    "wh_salaries_df = add_titles(\"PRESIDENT\", wh_salaries_df)\n",
    "wh_salaries_df = add_titles(\"ADVISOR\", wh_salaries_df)"
   ]
  },
  {
   "cell_type": "code",
   "execution_count": 20,
   "metadata": {},
   "outputs": [
    {
     "data": {
      "text/html": [
       "<div>\n",
       "<style scoped>\n",
       "    .dataframe tbody tr th:only-of-type {\n",
       "        vertical-align: middle;\n",
       "    }\n",
       "\n",
       "    .dataframe tbody tr th {\n",
       "        vertical-align: top;\n",
       "    }\n",
       "\n",
       "    .dataframe thead th {\n",
       "        text-align: right;\n",
       "    }\n",
       "</style>\n",
       "<table border=\"1\" class=\"dataframe\">\n",
       "  <thead>\n",
       "    <tr style=\"text-align: right;\">\n",
       "      <th></th>\n",
       "      <th>NAME</th>\n",
       "      <th>STATUS</th>\n",
       "      <th>SALARY</th>\n",
       "      <th>PAY BASIS</th>\n",
       "      <th>POSITION TITLE</th>\n",
       "      <th>Title SPECIAL</th>\n",
       "      <th>Title DEPUTY</th>\n",
       "      <th>Title DIRECTOR</th>\n",
       "      <th>Title ASSISTANT</th>\n",
       "      <th>Title SENIOR</th>\n",
       "      <th>Title ASSOCIATE</th>\n",
       "      <th>Title CHIEF</th>\n",
       "      <th>Title SUPERVISOR</th>\n",
       "      <th>Title LEAD</th>\n",
       "      <th>Title PRESIDENT</th>\n",
       "      <th>Title ADVISOR</th>\n",
       "    </tr>\n",
       "  </thead>\n",
       "  <tbody>\n",
       "    <tr>\n",
       "      <th>0</th>\n",
       "      <td>Alexander, Monica K.</td>\n",
       "      <td>Employee</td>\n",
       "      <td>56000.0</td>\n",
       "      <td>Per Annum</td>\n",
       "      <td>EXECUTIVE ASSISTANT</td>\n",
       "      <td>0</td>\n",
       "      <td>0</td>\n",
       "      <td>0</td>\n",
       "      <td>1</td>\n",
       "      <td>0</td>\n",
       "      <td>0</td>\n",
       "      <td>0</td>\n",
       "      <td>0</td>\n",
       "      <td>0</td>\n",
       "      <td>0</td>\n",
       "      <td>0</td>\n",
       "    </tr>\n",
       "    <tr>\n",
       "      <th>1</th>\n",
       "      <td>Ambrosini, Michael J.</td>\n",
       "      <td>Employee</td>\n",
       "      <td>95000.0</td>\n",
       "      <td>Per Annum</td>\n",
       "      <td>SPECIAL ASSISTANT TO THE PRESIDENT AND DIRECTO...</td>\n",
       "      <td>1</td>\n",
       "      <td>0</td>\n",
       "      <td>1</td>\n",
       "      <td>1</td>\n",
       "      <td>0</td>\n",
       "      <td>0</td>\n",
       "      <td>1</td>\n",
       "      <td>0</td>\n",
       "      <td>0</td>\n",
       "      <td>1</td>\n",
       "      <td>0</td>\n",
       "    </tr>\n",
       "    <tr>\n",
       "      <th>2</th>\n",
       "      <td>Amin, Stacy C.</td>\n",
       "      <td>Employee</td>\n",
       "      <td>140000.0</td>\n",
       "      <td>Per Annum</td>\n",
       "      <td>SPECIAL ASSISTANT TO THE PRESIDENT AND ASSOCIA...</td>\n",
       "      <td>1</td>\n",
       "      <td>0</td>\n",
       "      <td>0</td>\n",
       "      <td>1</td>\n",
       "      <td>0</td>\n",
       "      <td>1</td>\n",
       "      <td>0</td>\n",
       "      <td>0</td>\n",
       "      <td>0</td>\n",
       "      <td>1</td>\n",
       "      <td>0</td>\n",
       "    </tr>\n",
       "    <tr>\n",
       "      <th>3</th>\n",
       "      <td>Andersen, Whitney N.</td>\n",
       "      <td>Employee</td>\n",
       "      <td>94000.0</td>\n",
       "      <td>Per Annum</td>\n",
       "      <td>DEPUTY DIRECTOR OF OPERATIONS FOR THE WHITE HO...</td>\n",
       "      <td>0</td>\n",
       "      <td>1</td>\n",
       "      <td>1</td>\n",
       "      <td>0</td>\n",
       "      <td>0</td>\n",
       "      <td>0</td>\n",
       "      <td>0</td>\n",
       "      <td>0</td>\n",
       "      <td>0</td>\n",
       "      <td>0</td>\n",
       "      <td>0</td>\n",
       "    </tr>\n",
       "    <tr>\n",
       "      <th>4</th>\n",
       "      <td>Anderson, Alexander J.</td>\n",
       "      <td>Employee</td>\n",
       "      <td>77000.0</td>\n",
       "      <td>Per Annum</td>\n",
       "      <td>DIRECTOR OF DIGITAL ENGAGEMENT</td>\n",
       "      <td>0</td>\n",
       "      <td>0</td>\n",
       "      <td>1</td>\n",
       "      <td>0</td>\n",
       "      <td>0</td>\n",
       "      <td>0</td>\n",
       "      <td>0</td>\n",
       "      <td>0</td>\n",
       "      <td>0</td>\n",
       "      <td>0</td>\n",
       "      <td>0</td>\n",
       "    </tr>\n",
       "  </tbody>\n",
       "</table>\n",
       "</div>"
      ],
      "text/plain": [
       "                     NAME    STATUS    SALARY  PAY BASIS  \\\n",
       "0    Alexander, Monica K.  Employee   56000.0  Per Annum   \n",
       "1   Ambrosini, Michael J.  Employee   95000.0  Per Annum   \n",
       "2          Amin, Stacy C.  Employee  140000.0  Per Annum   \n",
       "3    Andersen, Whitney N.  Employee   94000.0  Per Annum   \n",
       "4  Anderson, Alexander J.  Employee   77000.0  Per Annum   \n",
       "\n",
       "                                      POSITION TITLE  Title SPECIAL  \\\n",
       "0                                EXECUTIVE ASSISTANT              0   \n",
       "1  SPECIAL ASSISTANT TO THE PRESIDENT AND DIRECTO...              1   \n",
       "2  SPECIAL ASSISTANT TO THE PRESIDENT AND ASSOCIA...              1   \n",
       "3  DEPUTY DIRECTOR OF OPERATIONS FOR THE WHITE HO...              0   \n",
       "4                     DIRECTOR OF DIGITAL ENGAGEMENT              0   \n",
       "\n",
       "   Title DEPUTY  Title DIRECTOR  Title ASSISTANT  Title SENIOR  \\\n",
       "0             0               0                1             0   \n",
       "1             0               1                1             0   \n",
       "2             0               0                1             0   \n",
       "3             1               1                0             0   \n",
       "4             0               1                0             0   \n",
       "\n",
       "   Title ASSOCIATE  Title CHIEF  Title SUPERVISOR  Title LEAD  \\\n",
       "0                0            0                 0           0   \n",
       "1                0            1                 0           0   \n",
       "2                1            0                 0           0   \n",
       "3                0            0                 0           0   \n",
       "4                0            0                 0           0   \n",
       "\n",
       "   Title PRESIDENT  Title ADVISOR  \n",
       "0                0              0  \n",
       "1                1              0  \n",
       "2                1              0  \n",
       "3                0              0  \n",
       "4                0              0  "
      ]
     },
     "execution_count": 20,
     "metadata": {},
     "output_type": "execute_result"
    }
   ],
   "source": [
    "wh_salaries_df.head()"
   ]
  },
  {
   "cell_type": "markdown",
   "metadata": {},
   "source": [
    "We have engineered a number of features that might be useful in our models. Although more features could possibly be created, such as features based on the amount of salary, for our purposes the ones we have created will suffice. "
   ]
  },
  {
   "cell_type": "markdown",
   "metadata": {},
   "source": [
    "## b) <a class=\"anchor\" id=\"question2b\"></a>\n",
    "\n",
    "Consider the file “data.csv” in the following GitHub repository.  What are some descriptive statistics about this set?  What can you say about the distribution of this data?\n",
    "   \n",
    "https://github.com/fractalbass/data_engineer\n"
   ]
  },
  {
   "cell_type": "code",
   "execution_count": 21,
   "metadata": {},
   "outputs": [],
   "source": [
    "df = pd.read_csv('https://raw.githubusercontent.com/fractalbass/data_engineer/master/data.csv')"
   ]
  },
  {
   "cell_type": "code",
   "execution_count": 22,
   "metadata": {},
   "outputs": [
    {
     "data": {
      "text/html": [
       "<div>\n",
       "<style scoped>\n",
       "    .dataframe tbody tr th:only-of-type {\n",
       "        vertical-align: middle;\n",
       "    }\n",
       "\n",
       "    .dataframe tbody tr th {\n",
       "        vertical-align: top;\n",
       "    }\n",
       "\n",
       "    .dataframe thead th {\n",
       "        text-align: right;\n",
       "    }\n",
       "</style>\n",
       "<table border=\"1\" class=\"dataframe\">\n",
       "  <thead>\n",
       "    <tr style=\"text-align: right;\">\n",
       "      <th></th>\n",
       "      <th>0</th>\n",
       "      <th>23.82729036706873</th>\n",
       "    </tr>\n",
       "  </thead>\n",
       "  <tbody>\n",
       "    <tr>\n",
       "      <th>0</th>\n",
       "      <td>1</td>\n",
       "      <td>23.589108</td>\n",
       "    </tr>\n",
       "    <tr>\n",
       "      <th>1</th>\n",
       "      <td>2</td>\n",
       "      <td>24.529556</td>\n",
       "    </tr>\n",
       "    <tr>\n",
       "      <th>2</th>\n",
       "      <td>3</td>\n",
       "      <td>16.684580</td>\n",
       "    </tr>\n",
       "    <tr>\n",
       "      <th>3</th>\n",
       "      <td>4</td>\n",
       "      <td>22.075507</td>\n",
       "    </tr>\n",
       "    <tr>\n",
       "      <th>4</th>\n",
       "      <td>5</td>\n",
       "      <td>21.892569</td>\n",
       "    </tr>\n",
       "  </tbody>\n",
       "</table>\n",
       "</div>"
      ],
      "text/plain": [
       "   0  23.82729036706873\n",
       "0  1          23.589108\n",
       "1  2          24.529556\n",
       "2  3          16.684580\n",
       "3  4          22.075507\n",
       "4  5          21.892569"
      ]
     },
     "execution_count": 22,
     "metadata": {},
     "output_type": "execute_result"
    }
   ],
   "source": [
    "df.head()"
   ]
  },
  {
   "cell_type": "code",
   "execution_count": 23,
   "metadata": {},
   "outputs": [
    {
     "data": {
      "text/html": [
       "<div>\n",
       "<style scoped>\n",
       "    .dataframe tbody tr th:only-of-type {\n",
       "        vertical-align: middle;\n",
       "    }\n",
       "\n",
       "    .dataframe tbody tr th {\n",
       "        vertical-align: top;\n",
       "    }\n",
       "\n",
       "    .dataframe thead th {\n",
       "        text-align: right;\n",
       "    }\n",
       "</style>\n",
       "<table border=\"1\" class=\"dataframe\">\n",
       "  <thead>\n",
       "    <tr style=\"text-align: right;\">\n",
       "      <th></th>\n",
       "      <th>ints</th>\n",
       "      <th>floats</th>\n",
       "    </tr>\n",
       "  </thead>\n",
       "  <tbody>\n",
       "    <tr>\n",
       "      <th>0</th>\n",
       "      <td>1</td>\n",
       "      <td>23.589108</td>\n",
       "    </tr>\n",
       "    <tr>\n",
       "      <th>1</th>\n",
       "      <td>2</td>\n",
       "      <td>24.529556</td>\n",
       "    </tr>\n",
       "    <tr>\n",
       "      <th>2</th>\n",
       "      <td>3</td>\n",
       "      <td>16.684580</td>\n",
       "    </tr>\n",
       "    <tr>\n",
       "      <th>3</th>\n",
       "      <td>4</td>\n",
       "      <td>22.075507</td>\n",
       "    </tr>\n",
       "    <tr>\n",
       "      <th>4</th>\n",
       "      <td>5</td>\n",
       "      <td>21.892569</td>\n",
       "    </tr>\n",
       "  </tbody>\n",
       "</table>\n",
       "</div>"
      ],
      "text/plain": [
       "   ints     floats\n",
       "0     1  23.589108\n",
       "1     2  24.529556\n",
       "2     3  16.684580\n",
       "3     4  22.075507\n",
       "4     5  21.892569"
      ]
     },
     "execution_count": 23,
     "metadata": {},
     "output_type": "execute_result"
    }
   ],
   "source": [
    "df.columns = ['ints', 'floats']\n",
    "df.head()"
   ]
  },
  {
   "cell_type": "code",
   "execution_count": 24,
   "metadata": {},
   "outputs": [
    {
     "data": {
      "text/html": [
       "<div>\n",
       "<style scoped>\n",
       "    .dataframe tbody tr th:only-of-type {\n",
       "        vertical-align: middle;\n",
       "    }\n",
       "\n",
       "    .dataframe tbody tr th {\n",
       "        vertical-align: top;\n",
       "    }\n",
       "\n",
       "    .dataframe thead th {\n",
       "        text-align: right;\n",
       "    }\n",
       "</style>\n",
       "<table border=\"1\" class=\"dataframe\">\n",
       "  <thead>\n",
       "    <tr style=\"text-align: right;\">\n",
       "      <th></th>\n",
       "      <th>ints</th>\n",
       "      <th>floats</th>\n",
       "    </tr>\n",
       "  </thead>\n",
       "  <tbody>\n",
       "    <tr>\n",
       "      <th>count</th>\n",
       "      <td>9999.000000</td>\n",
       "      <td>9999.000000</td>\n",
       "    </tr>\n",
       "    <tr>\n",
       "      <th>mean</th>\n",
       "      <td>5000.000000</td>\n",
       "      <td>23.035996</td>\n",
       "    </tr>\n",
       "    <tr>\n",
       "      <th>std</th>\n",
       "      <td>2886.607005</td>\n",
       "      <td>2.995436</td>\n",
       "    </tr>\n",
       "    <tr>\n",
       "      <th>min</th>\n",
       "      <td>1.000000</td>\n",
       "      <td>11.248686</td>\n",
       "    </tr>\n",
       "    <tr>\n",
       "      <th>25%</th>\n",
       "      <td>2500.500000</td>\n",
       "      <td>21.007170</td>\n",
       "    </tr>\n",
       "    <tr>\n",
       "      <th>50%</th>\n",
       "      <td>5000.000000</td>\n",
       "      <td>23.024031</td>\n",
       "    </tr>\n",
       "    <tr>\n",
       "      <th>75%</th>\n",
       "      <td>7499.500000</td>\n",
       "      <td>25.069370</td>\n",
       "    </tr>\n",
       "    <tr>\n",
       "      <th>max</th>\n",
       "      <td>9999.000000</td>\n",
       "      <td>33.286533</td>\n",
       "    </tr>\n",
       "  </tbody>\n",
       "</table>\n",
       "</div>"
      ],
      "text/plain": [
       "              ints       floats\n",
       "count  9999.000000  9999.000000\n",
       "mean   5000.000000    23.035996\n",
       "std    2886.607005     2.995436\n",
       "min       1.000000    11.248686\n",
       "25%    2500.500000    21.007170\n",
       "50%    5000.000000    23.024031\n",
       "75%    7499.500000    25.069370\n",
       "max    9999.000000    33.286533"
      ]
     },
     "execution_count": 24,
     "metadata": {},
     "output_type": "execute_result"
    }
   ],
   "source": [
    "df.describe()"
   ]
  },
  {
   "cell_type": "markdown",
   "metadata": {},
   "source": [
    "The data in column 1 has a large spread as seen by the high standard deviation, whereas the data in column 2 has very little spread.\n"
   ]
  },
  {
   "cell_type": "code",
   "execution_count": 25,
   "metadata": {},
   "outputs": [
    {
     "data": {
      "text/plain": [
       "<seaborn.axisgrid.FacetGrid at 0x7faeb48498b0>"
      ]
     },
     "execution_count": 25,
     "metadata": {},
     "output_type": "execute_result"
    },
    {
     "data": {
      "image/png": "[encoded data removed]",
      "text/plain": [
       "<Figure size 360x360 with 1 Axes>"
      ]
     },
     "metadata": {
      "needs_background": "light"
     },
     "output_type": "display_data"
    }
   ],
   "source": [
    "sns.displot(x = \"ints\", y = 'floats', kind = \"kde\", data = df)"
   ]
  },
  {
   "cell_type": "code",
   "execution_count": 26,
   "metadata": {},
   "outputs": [
    {
     "data": {
      "text/plain": [
       "<AxesSubplot:xlabel='ints', ylabel='floats'>"
      ]
     },
     "execution_count": 26,
     "metadata": {},
     "output_type": "execute_result"
    },
    {
     "data": {
      "image/png": "[encoded data removed]",
      "text/plain": [
       "<Figure size 432x288 with 1 Axes>"
      ]
     },
     "metadata": {
      "needs_background": "light"
     },
     "output_type": "display_data"
    }
   ],
   "source": [
    "sns.scatterplot(x = \"ints\", y = 'floats', data = df)"
   ]
  },
  {
   "cell_type": "code",
   "execution_count": 27,
   "metadata": {
    "scrolled": true
   },
   "outputs": [
    {
     "data": {
      "text/plain": [
       "<seaborn.axisgrid.FacetGrid at 0x7faeb26f95e0>"
      ]
     },
     "execution_count": 27,
     "metadata": {},
     "output_type": "execute_result"
    },
    {
     "data": {
      "image/png": "[encoded data removed]",
      "text/plain": [
       "<Figure size 360x360 with 1 Axes>"
      ]
     },
     "metadata": {
      "needs_background": "light"
     },
     "output_type": "display_data"
    }
   ],
   "source": [
    "sns.displot(x = \"ints\",  y = \"floats\", kind = \"kde\", data = df, fill = True)"
   ]
  },
  {
   "cell_type": "markdown",
   "metadata": {},
   "source": [
    " The histogram of the distribution has a rectangular shape. Furthermore, it appears that all outcomes are equally likely. For these reasons, I would say the data has a uniform distribution."
   ]
  },
  {
   "cell_type": "code",
   "execution_count": 28,
   "metadata": {},
   "outputs": [
    {
     "data": {
      "text/plain": [
       "<AxesSubplot:xlabel='ints', ylabel='Count'>"
      ]
     },
     "execution_count": 28,
     "metadata": {},
     "output_type": "execute_result"
    },
    {
     "data": {
      "image/png": "[encoded data removed]",
      "text/plain": [
       "<Figure size 432x288 with 1 Axes>"
      ]
     },
     "metadata": {
      "needs_background": "light"
     },
     "output_type": "display_data"
    }
   ],
   "source": [
    "sns.histplot(data=df, x=\"ints\")"
   ]
  },
  {
   "cell_type": "markdown",
   "metadata": {},
   "source": [
    "# Question 3 <a class=\"anchor\" id=\"question3\"></a>\n",
    "If you were asked to impute null values in a column of a file that was 365 Gigabytes, what would you do?  What tools would you use? What tools would you NOT use?\n",
    "\n",
    "Answer:\n",
    "\n",
    "I would not use basic python or R. I would most likely use something like pyspark that would allow me to work with such a large dataset. Through in-memory caching, and optimized query execution, Spark can work with data of any size."
   ]
  },
  {
   "cell_type": "markdown",
   "metadata": {},
   "source": [
    "# Question 4 <a class=\"anchor\" id=\"question4\"></a>\n",
    "\n",
    "What would you do if you were asked to do the above task every Thursday morning at 2:00am?\n",
    "\n",
    "Answer: I would write a script to try and automate this task. \n"
   ]
  },
  {
   "cell_type": "markdown",
   "metadata": {},
   "source": [
    "# Question 5 <a class=\"anchor\" id=\"question5\"></a>\n",
    "\n",
    "Who is your favorite mathematician, statistician or computer scientist and why?\n",
    "\n",
    "Answer:\n",
    "\n",
    "My favorite mathematician is Sirinivasa Ramanujan. As someone who did not come from a traditional background, I find his story to be relatable and inspirational. He had no formal education, yet he pioneered entire branches of mathematics. That is amazing. To this day much of his work is still not fully understood! He was a unique person and perhaps the greatest mathematician of all time.\n"
   ]
  },
  {
   "cell_type": "code",
   "execution_count": null,
   "metadata": {},
   "outputs": [],
   "source": []
  }
 ],
 "metadata": {
  "kernelspec": {
   "display_name": "Python 3",
   "language": "python",
   "name": "python3"
  },
  "language_info": {
   "codemirror_mode": {
    "name": "ipython",
    "version": 3
   },
   "file_extension": ".py",
   "mimetype": "text/x-python",
   "name": "python",
   "nbconvert_exporter": "python",
   "pygments_lexer": "ipython3",
   "version": "3.8.3"
  }
 },
 "nbformat": 4,
 "nbformat_minor": 4
}
