{
 "cells": [
  {
   "cell_type": "code",
   "execution_count": 1,
   "metadata": {},
   "outputs": [],
   "source": [
    "import pandas as pd"
   ]
  },
  {
   "cell_type": "code",
   "execution_count": 7,
   "metadata": {},
   "outputs": [],
   "source": [
    "name_table = pd.DataFrame(columns = ['Name'], index = ['V001','V002','V003','V004'], data = ['Abe', 'Abhay', 'Acelin', 'Adelphos'])\n",
    "name_test = pd.DataFrame(columns = ['Name'], index = ['V001','V002','V003','V004','V005','V006'], data = ['Gabe', 'eee', 'aaE', 'aaa','Justin',\"Todd\"])\n",
    "mark_table = pd.DataFrame(columns = ['Total_marks'], index = ['V001','V002','V003','V004'], data = [95, 80, 74, 81])"
   ]
  },
  {
   "cell_type": "code",
   "execution_count": 3,
   "metadata": {},
   "outputs": [],
   "source": [
    "def upper_if_e(name_table):\n",
    "    \"\"\"\n",
    "    returns a new data frame version of name_table, where each name containing the letter “e” is uppercased, \n",
    "    and lowercased otherwise.\n",
    "    \n",
    "    :param name_table: A dataframe containing the names of people.\n",
    "    :return: A new dataframe where every name that contained the letter 'e' is uppercased and names that\n",
    "    did contain 'e' are lower cased. \n",
    "    :rtype: Dataframe\n",
    "    \n",
    "    Example: “Edward” → “EDWARD”, “Bob” → “bob”\n",
    "    \"\"\"\n",
    "    names = name_table['Name']\n",
    "    new_df = name_table.copy()\n",
    "    #if the string does not contain e. ~ is the negation operator.\n",
    "    new_df.loc[~ new_df.Name.str.contains('e'), 'Name'] = new_df.Name.str.lower()\n",
    "    new_df.loc[new_df.Name.str.contains('e'), 'Name'] = new_df.Name.str.upper()\n",
    "    return new_df"
   ]
  },
  {
   "cell_type": "code",
   "execution_count": 4,
   "metadata": {},
   "outputs": [
    {
     "data": {
      "text/html": [
       "<div>\n",
       "<style scoped>\n",
       "    .dataframe tbody tr th:only-of-type {\n",
       "        vertical-align: middle;\n",
       "    }\n",
       "\n",
       "    .dataframe tbody tr th {\n",
       "        vertical-align: top;\n",
       "    }\n",
       "\n",
       "    .dataframe thead th {\n",
       "        text-align: right;\n",
       "    }\n",
       "</style>\n",
       "<table border=\"1\" class=\"dataframe\">\n",
       "  <thead>\n",
       "    <tr style=\"text-align: right;\">\n",
       "      <th></th>\n",
       "      <th>Name</th>\n",
       "    </tr>\n",
       "  </thead>\n",
       "  <tbody>\n",
       "    <tr>\n",
       "      <th>V001</th>\n",
       "      <td>GABE</td>\n",
       "    </tr>\n",
       "    <tr>\n",
       "      <th>V002</th>\n",
       "      <td>EEE</td>\n",
       "    </tr>\n",
       "    <tr>\n",
       "      <th>V003</th>\n",
       "      <td>AAE</td>\n",
       "    </tr>\n",
       "    <tr>\n",
       "      <th>V004</th>\n",
       "      <td>aaa</td>\n",
       "    </tr>\n",
       "    <tr>\n",
       "      <th>V005</th>\n",
       "      <td>justin</td>\n",
       "    </tr>\n",
       "    <tr>\n",
       "      <th>V006</th>\n",
       "      <td>todd</td>\n",
       "    </tr>\n",
       "  </tbody>\n",
       "</table>\n",
       "</div>"
      ],
      "text/plain": [
       "        Name\n",
       "V001    GABE\n",
       "V002     EEE\n",
       "V003     AAE\n",
       "V004     aaa\n",
       "V005  justin\n",
       "V006    todd"
      ]
     },
     "execution_count": 4,
     "metadata": {},
     "output_type": "execute_result"
    }
   ],
   "source": [
    "upper_if_e(name_test)"
   ]
  },
  {
   "cell_type": "code",
   "execution_count": 18,
   "metadata": {},
   "outputs": [
    {
     "data": {
      "text/html": [
       "<div>\n",
       "<style scoped>\n",
       "    .dataframe tbody tr th:only-of-type {\n",
       "        vertical-align: middle;\n",
       "    }\n",
       "\n",
       "    .dataframe tbody tr th {\n",
       "        vertical-align: top;\n",
       "    }\n",
       "\n",
       "    .dataframe thead th {\n",
       "        text-align: right;\n",
       "    }\n",
       "</style>\n",
       "<table border=\"1\" class=\"dataframe\">\n",
       "  <thead>\n",
       "    <tr style=\"text-align: right;\">\n",
       "      <th></th>\n",
       "      <th>Name</th>\n",
       "    </tr>\n",
       "  </thead>\n",
       "  <tbody>\n",
       "    <tr>\n",
       "      <th>V001</th>\n",
       "      <td>ABE</td>\n",
       "    </tr>\n",
       "    <tr>\n",
       "      <th>V002</th>\n",
       "      <td>abhay</td>\n",
       "    </tr>\n",
       "    <tr>\n",
       "      <th>V003</th>\n",
       "      <td>ACELIN</td>\n",
       "    </tr>\n",
       "    <tr>\n",
       "      <th>V004</th>\n",
       "      <td>ADELPHOS</td>\n",
       "    </tr>\n",
       "  </tbody>\n",
       "</table>\n",
       "</div>"
      ],
      "text/plain": [
       "          Name\n",
       "V001       ABE\n",
       "V002     abhay\n",
       "V003    ACELIN\n",
       "V004  ADELPHOS"
      ]
     },
     "execution_count": 18,
     "metadata": {},
     "output_type": "execute_result"
    }
   ],
   "source": [
    "cased_df = upper_if_e(name_table)\n",
    "cased_df"
   ]
  },
  {
   "cell_type": "code",
   "execution_count": 39,
   "metadata": {},
   "outputs": [],
   "source": [
    "def summarize_avg_grade(new_name_table, mark_table):\n",
    "    \"\"\"\n",
    "    returns a new data frame containing the average of the grades contained within mark_table for uppercased \n",
    "    names and lowercased names contained within new_name_table.\n",
    "    \n",
    "    :param new_name_table: A dataframe containing the names of people. The names should be all uppercased or all\n",
    "    lowercased.\n",
    "    :param mark_table: A dataframe containing grades.\n",
    "    :return: A new dataframe containing the average score for upper case names and lower case names.\n",
    "    :rtype: Dataframe\n",
    "    \n",
    "    \"\"\"\n",
    "    #merge the dataframes by their index. \n",
    "    combined_df = new_name_table.merge(mark_table, left_index=True, right_index=True)\n",
    "    upper_avg = combined_df[combined_df.Name.str.isupper()].mean()\n",
    "    lower_avg = combined_df[combined_df.Name.str.islower()].mean()\n",
    "    averages_df = pd.DataFrame({\"Uppercase Average\": upper_avg, \"Lowercase Average\": lower_avg})\n",
    "    return averages_df\n",
    "    "
   ]
  },
  {
   "cell_type": "code",
   "execution_count": 40,
   "metadata": {},
   "outputs": [
    {
     "data": {
      "text/html": [
       "<div>\n",
       "<style scoped>\n",
       "    .dataframe tbody tr th:only-of-type {\n",
       "        vertical-align: middle;\n",
       "    }\n",
       "\n",
       "    .dataframe tbody tr th {\n",
       "        vertical-align: top;\n",
       "    }\n",
       "\n",
       "    .dataframe thead th {\n",
       "        text-align: right;\n",
       "    }\n",
       "</style>\n",
       "<table border=\"1\" class=\"dataframe\">\n",
       "  <thead>\n",
       "    <tr style=\"text-align: right;\">\n",
       "      <th></th>\n",
       "      <th>Uppercase Average</th>\n",
       "      <th>Lowercase Average</th>\n",
       "    </tr>\n",
       "  </thead>\n",
       "  <tbody>\n",
       "    <tr>\n",
       "      <th>Total_marks</th>\n",
       "      <td>83.333333</td>\n",
       "      <td>80.0</td>\n",
       "    </tr>\n",
       "  </tbody>\n",
       "</table>\n",
       "</div>"
      ],
      "text/plain": [
       "             Uppercase Average  Lowercase Average\n",
       "Total_marks          83.333333               80.0"
      ]
     },
     "execution_count": 40,
     "metadata": {},
     "output_type": "execute_result"
    }
   ],
   "source": [
    "summarize_avg_grade(cased_df,mark_table)"
   ]
  },
  {
   "cell_type": "code",
   "execution_count": 43,
   "metadata": {},
   "outputs": [],
   "source": [
    "wh_salaries_df = pd.read_csv('https://raw.githubusercontent.com/helloworlddata/white-house-salaries/master/data/converted/2017.csv')"
   ]
  },
  {
   "cell_type": "code",
   "execution_count": 44,
   "metadata": {},
   "outputs": [
    {
     "data": {
      "text/html": [
       "<div>\n",
       "<style scoped>\n",
       "    .dataframe tbody tr th:only-of-type {\n",
       "        vertical-align: middle;\n",
       "    }\n",
       "\n",
       "    .dataframe tbody tr th {\n",
       "        vertical-align: top;\n",
       "    }\n",
       "\n",
       "    .dataframe thead th {\n",
       "        text-align: right;\n",
       "    }\n",
       "</style>\n",
       "<table border=\"1\" class=\"dataframe\">\n",
       "  <thead>\n",
       "    <tr style=\"text-align: right;\">\n",
       "      <th></th>\n",
       "      <th>NAME</th>\n",
       "      <th>STATUS</th>\n",
       "      <th>SALARY</th>\n",
       "      <th>PAY BASIS</th>\n",
       "      <th>POSITION TITLE</th>\n",
       "    </tr>\n",
       "  </thead>\n",
       "  <tbody>\n",
       "    <tr>\n",
       "      <th>0</th>\n",
       "      <td>Alexander, Monica K.</td>\n",
       "      <td>Employee</td>\n",
       "      <td>$56,000.00</td>\n",
       "      <td>Per Annum</td>\n",
       "      <td>EXECUTIVE ASSISTANT</td>\n",
       "    </tr>\n",
       "    <tr>\n",
       "      <th>1</th>\n",
       "      <td>Ambrosini, Michael J.</td>\n",
       "      <td>Employee</td>\n",
       "      <td>$95,000.00</td>\n",
       "      <td>Per Annum</td>\n",
       "      <td>SPECIAL ASSISTANT TO THE PRESIDENT AND DIRECTO...</td>\n",
       "    </tr>\n",
       "    <tr>\n",
       "      <th>2</th>\n",
       "      <td>Amin, Stacy C.</td>\n",
       "      <td>Employee</td>\n",
       "      <td>$140,000.00</td>\n",
       "      <td>Per Annum</td>\n",
       "      <td>SPECIAL ASSISTANT TO THE PRESIDENT AND ASSOCIA...</td>\n",
       "    </tr>\n",
       "    <tr>\n",
       "      <th>3</th>\n",
       "      <td>Andersen, Whitney N.</td>\n",
       "      <td>Employee</td>\n",
       "      <td>$94,000.00</td>\n",
       "      <td>Per Annum</td>\n",
       "      <td>DEPUTY DIRECTOR OF OPERATIONS FOR THE WHITE HO...</td>\n",
       "    </tr>\n",
       "    <tr>\n",
       "      <th>4</th>\n",
       "      <td>Anderson, Alexander J.</td>\n",
       "      <td>Employee</td>\n",
       "      <td>$77,000.00</td>\n",
       "      <td>Per Annum</td>\n",
       "      <td>DIRECTOR OF DIGITAL ENGAGEMENT</td>\n",
       "    </tr>\n",
       "  </tbody>\n",
       "</table>\n",
       "</div>"
      ],
      "text/plain": [
       "                     NAME    STATUS       SALARY  PAY BASIS  \\\n",
       "0    Alexander, Monica K.  Employee   $56,000.00  Per Annum   \n",
       "1   Ambrosini, Michael J.  Employee   $95,000.00  Per Annum   \n",
       "2          Amin, Stacy C.  Employee  $140,000.00  Per Annum   \n",
       "3    Andersen, Whitney N.  Employee   $94,000.00  Per Annum   \n",
       "4  Anderson, Alexander J.  Employee   $77,000.00  Per Annum   \n",
       "\n",
       "                                      POSITION TITLE  \n",
       "0                                EXECUTIVE ASSISTANT  \n",
       "1  SPECIAL ASSISTANT TO THE PRESIDENT AND DIRECTO...  \n",
       "2  SPECIAL ASSISTANT TO THE PRESIDENT AND ASSOCIA...  \n",
       "3  DEPUTY DIRECTOR OF OPERATIONS FOR THE WHITE HO...  \n",
       "4                     DIRECTOR OF DIGITAL ENGAGEMENT  "
      ]
     },
     "execution_count": 44,
     "metadata": {},
     "output_type": "execute_result"
    }
   ],
   "source": [
    "wh_salaries_df.head()"
   ]
  },
  {
   "cell_type": "code",
   "execution_count": null,
   "metadata": {},
   "outputs": [],
   "source": []
  }
 ],
 "metadata": {
  "kernelspec": {
   "display_name": "Python 3",
   "language": "python",
   "name": "python3"
  },
  "language_info": {
   "codemirror_mode": {
    "name": "ipython",
    "version": 3
   },
   "file_extension": ".py",
   "mimetype": "text/x-python",
   "name": "python",
   "nbconvert_exporter": "python",
   "pygments_lexer": "ipython3",
   "version": "3.8.3"
  }
 },
 "nbformat": 4,
 "nbformat_minor": 4
}
